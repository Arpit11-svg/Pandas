{
 "cells": [
  {
   "cell_type": "code",
   "execution_count": 1,
   "id": "c174c546-2801-4286-8a35-6c9c3c2ff878",
   "metadata": {},
   "outputs": [],
   "source": [
    "import numpy as np\n",
    "import pandas as pd"
   ]
  },
  {
   "cell_type": "code",
   "execution_count": 5,
   "id": "a99dd257-aab8-4701-95de-f9f395399cf3",
   "metadata": {},
   "outputs": [],
   "source": [
    "company = pd.read_csv('Fortune501.csv', encoding='ISO-8859-1')\n"
   ]
  },
  {
   "cell_type": "code",
   "execution_count": 19,
   "id": "34097ebb-b6f7-4477-8f78-dd3c43ac302e",
   "metadata": {},
   "outputs": [
    {
     "data": {
      "text/html": [
       "<div>\n",
       "<style scoped>\n",
       "    .dataframe tbody tr th:only-of-type {\n",
       "        vertical-align: middle;\n",
       "    }\n",
       "\n",
       "    .dataframe tbody tr th {\n",
       "        vertical-align: top;\n",
       "    }\n",
       "\n",
       "    .dataframe thead th {\n",
       "        text-align: right;\n",
       "    }\n",
       "</style>\n",
       "<table border=\"1\" class=\"dataframe\">\n",
       "  <thead>\n",
       "    <tr style=\"text-align: right;\">\n",
       "      <th></th>\n",
       "      <th>Rank</th>\n",
       "      <th>Company Name</th>\n",
       "      <th>Number of Employees</th>\n",
       "      <th>Previous Rank</th>\n",
       "      <th>Revenues</th>\n",
       "      <th>Revenue Change</th>\n",
       "      <th>Profits</th>\n",
       "      <th>Profit Change</th>\n",
       "      <th>Assets</th>\n",
       "      <th>Market Value</th>\n",
       "    </tr>\n",
       "  </thead>\n",
       "  <tbody>\n",
       "    <tr>\n",
       "      <th>0</th>\n",
       "      <td>1</td>\n",
       "      <td>Walmart</td>\n",
       "      <td>23,00,000</td>\n",
       "      <td>1.0</td>\n",
       "      <td>$4,85,873</td>\n",
       "      <td>0.8%</td>\n",
       "      <td>$13,643.0</td>\n",
       "      <td>-7.2%</td>\n",
       "      <td>$1,98,825</td>\n",
       "      <td>$2,18,619</td>\n",
       "    </tr>\n",
       "    <tr>\n",
       "      <th>1</th>\n",
       "      <td>2</td>\n",
       "      <td>Berkshire Hathaway</td>\n",
       "      <td>3,67,700</td>\n",
       "      <td>4.0</td>\n",
       "      <td>$2,23,604</td>\n",
       "      <td>6.1%</td>\n",
       "      <td>$24,074.0</td>\n",
       "      <td>0.0%</td>\n",
       "      <td>$6,20,854</td>\n",
       "      <td>$4,11,035</td>\n",
       "    </tr>\n",
       "    <tr>\n",
       "      <th>2</th>\n",
       "      <td>3</td>\n",
       "      <td>Apple</td>\n",
       "      <td>1,16,000</td>\n",
       "      <td>3.0</td>\n",
       "      <td>$2,15,639</td>\n",
       "      <td>-7.7%</td>\n",
       "      <td>$45,687.0</td>\n",
       "      <td>-14.4%</td>\n",
       "      <td>$3,21,686</td>\n",
       "      <td>$7,53,718</td>\n",
       "    </tr>\n",
       "    <tr>\n",
       "      <th>3</th>\n",
       "      <td>4</td>\n",
       "      <td>Exxon Mobil</td>\n",
       "      <td>72,700</td>\n",
       "      <td>2.0</td>\n",
       "      <td>$2,05,004</td>\n",
       "      <td>-16.7%</td>\n",
       "      <td>$7,840.0</td>\n",
       "      <td>-51.5%</td>\n",
       "      <td>$3,30,314</td>\n",
       "      <td>$3,40,056</td>\n",
       "    </tr>\n",
       "    <tr>\n",
       "      <th>4</th>\n",
       "      <td>5</td>\n",
       "      <td>McKesson</td>\n",
       "      <td>68,000</td>\n",
       "      <td>5.0</td>\n",
       "      <td>$1,92,487</td>\n",
       "      <td>6.2%</td>\n",
       "      <td>$2,258.0</td>\n",
       "      <td>53.0%</td>\n",
       "      <td>$56,563</td>\n",
       "      <td>$31,439</td>\n",
       "    </tr>\n",
       "    <tr>\n",
       "      <th>...</th>\n",
       "      <td>...</td>\n",
       "      <td>...</td>\n",
       "      <td>...</td>\n",
       "      <td>...</td>\n",
       "      <td>...</td>\n",
       "      <td>...</td>\n",
       "      <td>...</td>\n",
       "      <td>...</td>\n",
       "      <td>...</td>\n",
       "      <td>...</td>\n",
       "    </tr>\n",
       "    <tr>\n",
       "      <th>495</th>\n",
       "      <td>496</td>\n",
       "      <td>Michaels Cos.</td>\n",
       "      <td>31,000</td>\n",
       "      <td>517.0</td>\n",
       "      <td>$5,197</td>\n",
       "      <td>5.8%</td>\n",
       "      <td>$378.2</td>\n",
       "      <td>4.2%</td>\n",
       "      <td>$2,148</td>\n",
       "      <td>$4,229</td>\n",
       "    </tr>\n",
       "    <tr>\n",
       "      <th>496</th>\n",
       "      <td>497</td>\n",
       "      <td>Toll Brothers</td>\n",
       "      <td>4,200</td>\n",
       "      <td>576.0</td>\n",
       "      <td>$5,170</td>\n",
       "      <td>23.9%</td>\n",
       "      <td>$382.1</td>\n",
       "      <td>5.2%</td>\n",
       "      <td>$9,737</td>\n",
       "      <td>$5,872</td>\n",
       "    </tr>\n",
       "    <tr>\n",
       "      <th>497</th>\n",
       "      <td>498</td>\n",
       "      <td>Yahoo</td>\n",
       "      <td>8,500</td>\n",
       "      <td>513.0</td>\n",
       "      <td>$5,169</td>\n",
       "      <td>4.0%</td>\n",
       "      <td>-$214.3</td>\n",
       "      <td>-</td>\n",
       "      <td>$48,083</td>\n",
       "      <td>$44,391</td>\n",
       "    </tr>\n",
       "    <tr>\n",
       "      <th>498</th>\n",
       "      <td>499</td>\n",
       "      <td>Vistra Energy</td>\n",
       "      <td>4,431</td>\n",
       "      <td>NaN</td>\n",
       "      <td>$5,164</td>\n",
       "      <td>-</td>\n",
       "      <td>-</td>\n",
       "      <td>-</td>\n",
       "      <td>$15,167</td>\n",
       "      <td>$6,968</td>\n",
       "    </tr>\n",
       "    <tr>\n",
       "      <th>499</th>\n",
       "      <td>500</td>\n",
       "      <td>ABM Industries</td>\n",
       "      <td>1,10,000</td>\n",
       "      <td>485.0</td>\n",
       "      <td>$5,145</td>\n",
       "      <td>-2.8%</td>\n",
       "      <td>$57.2</td>\n",
       "      <td>-25.0%</td>\n",
       "      <td>$2,281</td>\n",
       "      <td>$2,428</td>\n",
       "    </tr>\n",
       "  </tbody>\n",
       "</table>\n",
       "<p>500 rows × 10 columns</p>\n",
       "</div>"
      ],
      "text/plain": [
       "     Rank        Company Name Number of Employees  Previous Rank   Revenues  \\\n",
       "0       1             Walmart           23,00,000            1.0  $4,85,873   \n",
       "1       2  Berkshire Hathaway            3,67,700            4.0  $2,23,604   \n",
       "2       3               Apple            1,16,000            3.0  $2,15,639   \n",
       "3       4         Exxon Mobil              72,700            2.0  $2,05,004   \n",
       "4       5            McKesson              68,000            5.0  $1,92,487   \n",
       "..    ...                 ...                 ...            ...        ...   \n",
       "495   496       Michaels Cos.              31,000          517.0     $5,197   \n",
       "496   497       Toll Brothers               4,200          576.0     $5,170   \n",
       "497   498               Yahoo               8,500          513.0     $5,169   \n",
       "498   499       Vistra Energy               4,431            NaN     $5,164   \n",
       "499   500      ABM Industries            1,10,000          485.0     $5,145   \n",
       "\n",
       "    Revenue Change    Profits Profit Change     Assets Market Value  \n",
       "0             0.8%  $13,643.0         -7.2%  $1,98,825    $2,18,619  \n",
       "1             6.1%  $24,074.0          0.0%  $6,20,854    $4,11,035  \n",
       "2            -7.7%  $45,687.0        -14.4%  $3,21,686    $7,53,718  \n",
       "3           -16.7%   $7,840.0        -51.5%  $3,30,314    $3,40,056  \n",
       "4             6.2%   $2,258.0         53.0%    $56,563      $31,439  \n",
       "..             ...        ...           ...        ...          ...  \n",
       "495           5.8%     $378.2          4.2%     $2,148       $4,229  \n",
       "496          23.9%     $382.1          5.2%     $9,737       $5,872  \n",
       "497           4.0%    -$214.3             -    $48,083      $44,391  \n",
       "498              -          -             -    $15,167       $6,968  \n",
       "499          -2.8%      $57.2        -25.0%     $2,281       $2,428  \n",
       "\n",
       "[500 rows x 10 columns]"
      ]
     },
     "execution_count": 19,
     "metadata": {},
     "output_type": "execute_result"
    }
   ],
   "source": [
    "company"
   ]
  },
  {
   "cell_type": "code",
   "execution_count": 22,
   "id": "365bd860-2fd4-4a0f-ad97-b3ada5131346",
   "metadata": {},
   "outputs": [],
   "source": [
    "sector=company.groupby('Revenue Change')\n"
   ]
  },
  {
   "cell_type": "code",
   "execution_count": 23,
   "id": "766ed7ea-8494-4ad3-8596-43e8a94abb37",
   "metadata": {},
   "outputs": [
    {
     "data": {
      "text/plain": [
       "288"
      ]
     },
     "execution_count": 23,
     "metadata": {},
     "output_type": "execute_result"
    }
   ],
   "source": [
    "len(sector)"
   ]
  },
  {
   "cell_type": "code",
   "execution_count": 24,
   "id": "32f69753-7226-40f2-bea9-4f5fd8c4294c",
   "metadata": {},
   "outputs": [
    {
     "data": {
      "text/plain": [
       "500"
      ]
     },
     "execution_count": 24,
     "metadata": {},
     "output_type": "execute_result"
    }
   ],
   "source": [
    "len(company)"
   ]
  },
  {
   "cell_type": "code",
   "execution_count": 25,
   "id": "8755f54a-ff6c-494e-8cb5-cfb91e64f0d0",
   "metadata": {},
   "outputs": [
    {
     "data": {
      "text/plain": [
       "Revenue Change\n",
       "-        6\n",
       "-0.1%    2\n",
       "-0.4%    6\n",
       "-0.5%    4\n",
       "-0.6%    2\n",
       "        ..\n",
       "9.8%     1\n",
       "9.9%     1\n",
       "91.8%    1\n",
       "92.6%    1\n",
       "94.5%    1\n",
       "Length: 288, dtype: int64"
      ]
     },
     "execution_count": 25,
     "metadata": {},
     "output_type": "execute_result"
    }
   ],
   "source": [
    "sector.size()"
   ]
  },
  {
   "cell_type": "code",
   "execution_count": 26,
   "id": "c87caedb-a9e2-42a2-80b9-8950a8567b11",
   "metadata": {},
   "outputs": [
    {
     "data": {
      "text/html": [
       "<div>\n",
       "<style scoped>\n",
       "    .dataframe tbody tr th:only-of-type {\n",
       "        vertical-align: middle;\n",
       "    }\n",
       "\n",
       "    .dataframe tbody tr th {\n",
       "        vertical-align: top;\n",
       "    }\n",
       "\n",
       "    .dataframe thead th {\n",
       "        text-align: right;\n",
       "    }\n",
       "</style>\n",
       "<table border=\"1\" class=\"dataframe\">\n",
       "  <thead>\n",
       "    <tr style=\"text-align: right;\">\n",
       "      <th></th>\n",
       "      <th>Rank</th>\n",
       "      <th>Company Name</th>\n",
       "      <th>Number of Employees</th>\n",
       "      <th>Previous Rank</th>\n",
       "      <th>Revenues</th>\n",
       "      <th>Profits</th>\n",
       "      <th>Profit Change</th>\n",
       "      <th>Assets</th>\n",
       "      <th>Market Value</th>\n",
       "    </tr>\n",
       "    <tr>\n",
       "      <th>Revenue Change</th>\n",
       "      <th></th>\n",
       "      <th></th>\n",
       "      <th></th>\n",
       "      <th></th>\n",
       "      <th></th>\n",
       "      <th></th>\n",
       "      <th></th>\n",
       "      <th></th>\n",
       "      <th></th>\n",
       "    </tr>\n",
       "  </thead>\n",
       "  <tbody>\n",
       "    <tr>\n",
       "      <th>-</th>\n",
       "      <td>59</td>\n",
       "      <td>Hewlett Packard Enterprise</td>\n",
       "      <td>1,95,000</td>\n",
       "      <td>432.0</td>\n",
       "      <td>$50,123</td>\n",
       "      <td>$3,161.0</td>\n",
       "      <td>-</td>\n",
       "      <td>$79,679</td>\n",
       "      <td>$39,288</td>\n",
       "    </tr>\n",
       "    <tr>\n",
       "      <th>-0.1%</th>\n",
       "      <td>316</td>\n",
       "      <td>Thrivent Financial for Lutherans</td>\n",
       "      <td>3,282</td>\n",
       "      <td>318.0</td>\n",
       "      <td>$8,777</td>\n",
       "      <td>$587.8</td>\n",
       "      <td>-23.6%</td>\n",
       "      <td>$88,561</td>\n",
       "      <td>-</td>\n",
       "    </tr>\n",
       "    <tr>\n",
       "      <th>-0.4%</th>\n",
       "      <td>44</td>\n",
       "      <td>PepsiCo</td>\n",
       "      <td>2,64,000</td>\n",
       "      <td>44.0</td>\n",
       "      <td>$62,799</td>\n",
       "      <td>$6,329.0</td>\n",
       "      <td>16.1%</td>\n",
       "      <td>$74,129</td>\n",
       "      <td>$1,59,763</td>\n",
       "    </tr>\n",
       "    <tr>\n",
       "      <th>-0.5%</th>\n",
       "      <td>94</td>\n",
       "      <td>3M</td>\n",
       "      <td>91,584</td>\n",
       "      <td>93.0</td>\n",
       "      <td>$30,109</td>\n",
       "      <td>$5,050.0</td>\n",
       "      <td>4.5%</td>\n",
       "      <td>$32,906</td>\n",
       "      <td>$1,14,338</td>\n",
       "    </tr>\n",
       "    <tr>\n",
       "      <th>-0.6%</th>\n",
       "      <td>175</td>\n",
       "      <td>Freeport-McMoRan</td>\n",
       "      <td>30,000</td>\n",
       "      <td>175.0</td>\n",
       "      <td>$15,789</td>\n",
       "      <td>-$4,154.0</td>\n",
       "      <td>-</td>\n",
       "      <td>$37,317</td>\n",
       "      <td>$19,310</td>\n",
       "    </tr>\n",
       "    <tr>\n",
       "      <th>...</th>\n",
       "      <td>...</td>\n",
       "      <td>...</td>\n",
       "      <td>...</td>\n",
       "      <td>...</td>\n",
       "      <td>...</td>\n",
       "      <td>...</td>\n",
       "      <td>...</td>\n",
       "      <td>...</td>\n",
       "      <td>...</td>\n",
       "    </tr>\n",
       "    <tr>\n",
       "      <th>9.8%</th>\n",
       "      <td>56</td>\n",
       "      <td>Lockheed Martin</td>\n",
       "      <td>97,000</td>\n",
       "      <td>60.0</td>\n",
       "      <td>$50,658</td>\n",
       "      <td>$5,302.0</td>\n",
       "      <td>47.1%</td>\n",
       "      <td>$47,806</td>\n",
       "      <td>$77,557</td>\n",
       "    </tr>\n",
       "    <tr>\n",
       "      <th>9.9%</th>\n",
       "      <td>283</td>\n",
       "      <td>Autoliv</td>\n",
       "      <td>65,900</td>\n",
       "      <td>310.0</td>\n",
       "      <td>$10,074</td>\n",
       "      <td>$567.1</td>\n",
       "      <td>24.1%</td>\n",
       "      <td>$8,234</td>\n",
       "      <td>$9,032</td>\n",
       "    </tr>\n",
       "    <tr>\n",
       "      <th>91.8%</th>\n",
       "      <td>191</td>\n",
       "      <td>XPO Logistics</td>\n",
       "      <td>87,000</td>\n",
       "      <td>353.0</td>\n",
       "      <td>$14,619</td>\n",
       "      <td>$69.0</td>\n",
       "      <td>-</td>\n",
       "      <td>$11,698</td>\n",
       "      <td>$5,338</td>\n",
       "    </tr>\n",
       "    <tr>\n",
       "      <th>92.6%</th>\n",
       "      <td>427</td>\n",
       "      <td>TreeHouse Foods</td>\n",
       "      <td>16,027</td>\n",
       "      <td>686.0</td>\n",
       "      <td>$6,175</td>\n",
       "      <td>-$228.6</td>\n",
       "      <td>-298.9%</td>\n",
       "      <td>$6,546</td>\n",
       "      <td>$4,813</td>\n",
       "    </tr>\n",
       "    <tr>\n",
       "      <th>94.5%</th>\n",
       "      <td>467</td>\n",
       "      <td>Olin</td>\n",
       "      <td>6,400</td>\n",
       "      <td>761.0</td>\n",
       "      <td>$5,551</td>\n",
       "      <td>-$3.9</td>\n",
       "      <td>-</td>\n",
       "      <td>$8,763</td>\n",
       "      <td>$5,444</td>\n",
       "    </tr>\n",
       "  </tbody>\n",
       "</table>\n",
       "<p>288 rows × 9 columns</p>\n",
       "</div>"
      ],
      "text/plain": [
       "                Rank                      Company Name Number of Employees  \\\n",
       "Revenue Change                                                               \n",
       "-                 59        Hewlett Packard Enterprise            1,95,000   \n",
       "-0.1%            316  Thrivent Financial for Lutherans               3,282   \n",
       "-0.4%             44                           PepsiCo            2,64,000   \n",
       "-0.5%             94                                3M              91,584   \n",
       "-0.6%            175                  Freeport-McMoRan              30,000   \n",
       "...              ...                               ...                 ...   \n",
       "9.8%              56                   Lockheed Martin              97,000   \n",
       "9.9%             283                           Autoliv              65,900   \n",
       "91.8%            191                     XPO Logistics              87,000   \n",
       "92.6%            427                   TreeHouse Foods              16,027   \n",
       "94.5%            467                              Olin               6,400   \n",
       "\n",
       "                Previous Rank Revenues    Profits Profit Change   Assets  \\\n",
       "Revenue Change                                                             \n",
       "-                       432.0  $50,123   $3,161.0             -  $79,679   \n",
       "-0.1%                   318.0   $8,777     $587.8        -23.6%  $88,561   \n",
       "-0.4%                    44.0  $62,799   $6,329.0         16.1%  $74,129   \n",
       "-0.5%                    93.0  $30,109   $5,050.0          4.5%  $32,906   \n",
       "-0.6%                   175.0  $15,789  -$4,154.0             -  $37,317   \n",
       "...                       ...      ...        ...           ...      ...   \n",
       "9.8%                     60.0  $50,658   $5,302.0         47.1%  $47,806   \n",
       "9.9%                    310.0  $10,074     $567.1         24.1%   $8,234   \n",
       "91.8%                   353.0  $14,619      $69.0             -  $11,698   \n",
       "92.6%                   686.0   $6,175    -$228.6       -298.9%   $6,546   \n",
       "94.5%                   761.0   $5,551      -$3.9             -   $8,763   \n",
       "\n",
       "               Market Value  \n",
       "Revenue Change               \n",
       "-                   $39,288  \n",
       "-0.1%                     -  \n",
       "-0.4%             $1,59,763  \n",
       "-0.5%             $1,14,338  \n",
       "-0.6%               $19,310  \n",
       "...                     ...  \n",
       "9.8%                $77,557  \n",
       "9.9%                 $9,032  \n",
       "91.8%                $5,338  \n",
       "92.6%                $4,813  \n",
       "94.5%                $5,444  \n",
       "\n",
       "[288 rows x 9 columns]"
      ]
     },
     "execution_count": 26,
     "metadata": {},
     "output_type": "execute_result"
    }
   ],
   "source": [
    "sector.first() #this gives first entry of that group"
   ]
  },
  {
   "cell_type": "code",
   "execution_count": 27,
   "id": "3ad760db-53d3-49a7-9fdf-b669c37f2b93",
   "metadata": {},
   "outputs": [
    {
     "data": {
      "text/plain": [
       "{'-': [58, 299, 398, 434, 481, 498], '-0.1%': [315, 491], '-0.4%': [43, 67, 89, 103, 152, 430], '-0.5%': [93, 106, 279, 287], '-0.6%': [174, 220], '-0.7%': [335], '-0.8%': [136, 369], '-0.9%': [71, 123, 221, 403, 409, 418, 451], '-1.0%': [120, 182], '-1.1%': [477], '-1.2%': [76, 270], '-1.3%': [61], '-1.4%': [21, 168, 229], '-1.5%': [338], '-1.6%': [23, 157], '-1.7%': [291], '-1.8%': [85, 177, 206], '-10.0%': [203, 295], '-10.1%': [337], '-10.2%': [54], '-10.6%': [250, 422], '-10.7%': [444], '-10.8%': [196, 216], '-10.9%': [81, 163], '-11.0%': [78], '-11.1%': [64, 102], '-11.3%': [278], '-11.5%': [290], '-12.0%': [112, 126], '-12.1%': [440], '-12.2%': [92], '-12.5%': [108], '-12.6%': [355], '-12.8%': [140], '-13.0%': [307], '-13.5%': [50], '-14.2%': [36], '-14.3%': [363], '-14.4%': [464], '-14.7%': [116], '-14.8%': [121], '-15.0%': [456], '-15.8%': [228], '-16.7%': [3, 404], '-16.9%': [33], '-18.0%': [18, 73], '-18.1%': [277], '-18.4%': [443], '-19.5%': [376, 487], '-2.0%': [66, 364, 388], '-2.1%': [154], '-2.2%': [243, 254, 274], '-2.3%': [212, 493], '-2.4%': [159, 248, 372], '-2.5%': [211], '-2.6%': [70], '-2.7%': [149], '-2.8%': [370, 499], '-2.9%': [19, 74, 210], '-20.0%': [336], '-20.1%': [333], '-20.4%': [273], '-20.9%': [348], '-21.3%': [114], '-23.4%': [225], '-27.1%': [360], '-3.1%': [31, 80, 111, 166, 195], '-3.2%': [160, 384], '-3.3%': [391], '-3.5%': [82], '-3.6%': [331, 396], '-3.7%': [293], '-3.8%': [77, 215, 233, 238, 485], '-3.9%': [446], '-30.1%': [236], '-32.8%': [172], '-37.5%': [284], '-38.3%': [342], '-38.7%': [387], '-4.0%': [139, 357], '-4.3%': [13, 473], '-4.4%': [489], '-4.5%': [193, 330], '-4.6%': [306], '-4.7%': [323], '-4.8%': [109, 143], '-4.9%': [265], '-41.7%': [378], '-45.0%': [227], '-5.0%': [416, 483], '-5.1%': [350], '-5.2%': [181], '-5.4%': [309], '-5.5%': [63, 332], '-5.7%': [100], '-5.8%': [37, 129, 132, 262, 469], '-5.9%': [223, 283], '-50.9%': [374], '-51.4%': [421], '-53.3%': [60], ...}"
      ]
     },
     "execution_count": 27,
     "metadata": {},
     "output_type": "execute_result"
    }
   ],
   "source": [
    "sector.groups"
   ]
  },
  {
   "cell_type": "code",
   "execution_count": 33,
   "id": "13dd570a-4d48-4e4f-9e08-33d5a5647313",
   "metadata": {},
   "outputs": [
    {
     "data": {
      "text/plain": [
       "1"
      ]
     },
     "execution_count": 33,
     "metadata": {},
     "output_type": "execute_result"
    }
   ],
   "source": [
    "sector.get_group('94.5%').shape[0]"
   ]
  },
  {
   "cell_type": "code",
   "execution_count": 34,
   "id": "bf4e6aaa-a7db-4439-a88c-b3b720ce0ed3",
   "metadata": {},
   "outputs": [
    {
     "data": {
      "text/plain": [
       "<bound method GroupBy.sum of <pandas.core.groupby.generic.DataFrameGroupBy object at 0x0000023A24B1C910>>"
      ]
     },
     "execution_count": 34,
     "metadata": {},
     "output_type": "execute_result"
    }
   ],
   "source": [
    "sector.sum"
   ]
  },
  {
   "cell_type": "code",
   "execution_count": 35,
   "id": "88b305c3-8b91-4956-b10d-e9acd01c6a59",
   "metadata": {},
   "outputs": [
    {
     "data": {
      "text/plain": [
       "<bound method GroupBy.mean of <pandas.core.groupby.generic.DataFrameGroupBy object at 0x0000023A24B1C910>>"
      ]
     },
     "execution_count": 35,
     "metadata": {},
     "output_type": "execute_result"
    }
   ],
   "source": [
    "sector.mean"
   ]
  },
  {
   "cell_type": "code",
   "execution_count": null,
   "id": "c5629330-ac9a-48c1-be2d-592cfb417aed",
   "metadata": {},
   "outputs": [],
   "source": []
  }
 ],
 "metadata": {
  "kernelspec": {
   "display_name": "Python [conda env:base] *",
   "language": "python",
   "name": "conda-base-py"
  },
  "language_info": {
   "codemirror_mode": {
    "name": "ipython",
    "version": 3
   },
   "file_extension": ".py",
   "mimetype": "text/x-python",
   "name": "python",
   "nbconvert_exporter": "python",
   "pygments_lexer": "ipython3",
   "version": "3.13.5"
  }
 },
 "nbformat": 4,
 "nbformat_minor": 5
}
